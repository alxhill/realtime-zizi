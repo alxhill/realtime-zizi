{
 "cells": [
  {
   "cell_type": "code",
   "execution_count": 4,
   "id": "1120a96a-da21-46f6-91d5-e45fae5d4aaa",
   "metadata": {},
   "outputs": [],
   "source": [
    "from zizi_pipeline import TrainingConfig, ConditionalZiziDataset\n",
    "import torch\n",
    "import torch.nn as nn\n",
    "import torch.nn.functional as F"
   ]
  },
  {
   "cell_type": "code",
   "execution_count": 8,
   "id": "bee58b39-f214-4990-a1ad-e2455f1ff24e",
   "metadata": {},
   "outputs": [],
   "source": [
    "config = TrainingConfig(\n",
    "    \"data/pink-me/\",\n",
    "    \"output/custom-unet/\",\n",
    "    image_size=128,\n",
    "    train_batch_size=8,\n",
    "    num_epochs=100,\n",
    "    save_image_epochs=5,\n",
    "    save_model_epochs=50)"
   ]
  },
  {
   "cell_type": "code",
   "execution_count": 9,
   "id": "a66ed054-be3a-4177-81ed-16a224621e2a",
   "metadata": {},
   "outputs": [],
   "source": [
    "%matplotlib inline\n",
    "%reload_ext autoreload\n",
    "%autoreload 2"
   ]
  }
 ],
 "metadata": {
  "kernelspec": {
   "display_name": "Python 3 (ipykernel)",
   "language": "python",
   "name": "python3"
  },
  "language_info": {
   "codemirror_mode": {
    "name": "ipython",
    "version": 3
   },
   "file_extension": ".py",
   "mimetype": "text/x-python",
   "name": "python",
   "nbconvert_exporter": "python",
   "pygments_lexer": "ipython3",
   "version": "3.9.16"
  }
 },
 "nbformat": 4,
 "nbformat_minor": 5
}
