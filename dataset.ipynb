{
 "cells": [
  {
   "cell_type": "code",
   "execution_count": 15,
   "id": "42cb89c0-6af7-4c6f-8cdd-979f2a34af5f",
   "metadata": {},
   "outputs": [],
   "source": [
    "import os\n",
    "import json\n",
    "import torch\n",
    "from torch.utils.data import Dataset, DataLoader\n",
    "from torchvision import transforms\n",
    "from PIL import Image"
   ]
  },
  {
   "cell_type": "code",
   "execution_count": 5,
   "id": "2b469f76-109d-4d7f-9bf1-7f14fcf929e1",
   "metadata": {},
   "outputs": [],
   "source": [
    "class ConditionalZiziDataset(Dataset):\n",
    "    def __init__(self, input_dir, image_size):\n",
    "        self.img_dir = input_dir + \"train_img\"\n",
    "        self.pose_dir = input_dir + \"train_openpose\"\n",
    "        self.img_files = os.listdir(self.img_dir)\n",
    "        self.img_files.sort()\n",
    "        self.image_size = image_size\n",
    "        self.preprocess = transforms.Compose(\n",
    "            [\n",
    "                transforms.Resize((image_size, image_size)),\n",
    "                transforms.ToTensor(),\n",
    "                transforms.Normalize([0.5], [0.5])\n",
    "            ]\n",
    "        )\n",
    "\n",
    "    def __len__(self):\n",
    "        return len(self.img_files)\n",
    "\n",
    "    def _get_img(self, idx):\n",
    "        return tensor.zeros(1)\n",
    "        # img_dir = os.path.join(self.img_dir, self.img_files[idx])\n",
    "        # with Image.open(img_dir) as img:\n",
    "        #     # img.thumbnail((self.image_size, self.image_size))\n",
    "        #     return self.preprocess(img.convert(\"RGB\"))\n",
    "\n",
    "    def _get_json(self, idx):\n",
    "        input_split = os.path.splitext(self.img_files[idx])\n",
    "        pose_json_name = input_split[0] + \"_keypoints.json\"\n",
    "        json_dir = os.path.join(self.pose_dir, pose_json_name)\n",
    "        with open(json_dir, 'r') as f:\n",
    "            data = json.load(f)\n",
    "        return torch.tensor(data['people'][0]['pose_keypoints_2d'])\n",
    "    \n",
    "    def __getitem__(self, idx):\n",
    "        if isinstance(idx, slice):\n",
    "            # Get the start, stop, and step from the slice\n",
    "            return [self[ii] for ii in range(*idx.indices(len(self)))]\n",
    "\n",
    "        input_img = self._get_img(idx)\n",
    "        json_data = self._get_json(idx)\n",
    "\n",
    "        return {\n",
    "            \"images\": input_img,\n",
    "            \"poses\": json_data\n",
    "        }\n"
   ]
  },
  {
   "cell_type": "code",
   "execution_count": 20,
   "id": "8c5887dc-1f62-4b7f-a817-a8bd6dfe9f3c",
   "metadata": {},
   "outputs": [],
   "source": [
    "x = ConditionalZiziDataset(\"data/pink-cape-me/\", 128)"
   ]
  },
  {
   "cell_type": "code",
   "execution_count": 26,
   "id": "39a254cd-e90a-468b-8f99-1ca993ec9602",
   "metadata": {},
   "outputs": [],
   "source": [
    "xlen = [len(y[\"poses\"]) for y in x]"
   ]
  },
  {
   "cell_type": "code",
   "execution_count": 29,
   "id": "45c53e20-b94d-4d93-9c27-e087ae2c94cf",
   "metadata": {},
   "outputs": [
    {
     "data": {
      "text/plain": [
       "0"
      ]
     },
     "execution_count": 29,
     "metadata": {},
     "output_type": "execute_result"
    }
   ],
   "source": [
    "len([z for z in xlen if z != 75])"
   ]
  },
  {
   "cell_type": "code",
   "execution_count": null,
   "id": "8cce7902-1b82-4d4b-a9cd-b8b38303c750",
   "metadata": {},
   "outputs": [],
   "source": []
  }
 ],
 "metadata": {
  "kernelspec": {
   "display_name": "Python 3 (ipykernel)",
   "language": "python",
   "name": "python3"
  },
  "language_info": {
   "codemirror_mode": {
    "name": "ipython",
    "version": 3
   },
   "file_extension": ".py",
   "mimetype": "text/x-python",
   "name": "python",
   "nbconvert_exporter": "python",
   "pygments_lexer": "ipython3",
   "version": "3.9.16"
  }
 },
 "nbformat": 4,
 "nbformat_minor": 5
}
