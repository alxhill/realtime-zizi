{
 "cells": [
  {
   "cell_type": "code",
   "execution_count": 2,
   "id": "2b469f76-109d-4d7f-9bf1-7f14fcf929e1",
   "metadata": {},
   "outputs": [],
   "source": [
    "from torch.utils.data import Dataset, DataLoader\n",
    "\n",
    "class ConditionalZiziDataset(Dataset):\n",
    "    def __init__(self, input_dir):\n",
    "        self.img_dir = input_dir + \"test_img\"\n",
    "        self.pose_dir = input_dir + \"test_openpose\"\n",
    "        self.img_files = os.listdir(self.img_dir)\n",
    "        self.img_files.sort()\n",
    "        self.preprocess = transforms.Compose(\n",
    "            [\n",
    "                transforms.Resize((image_size, image_size)),\n",
    "                transforms.ToTensor(),\n",
    "                transforms.Normalize([0.5], [0.5])\n",
    "            ]\n",
    "        )\n",
    "\n",
    "    def __len__(self):\n",
    "        return len(self.img_files)\n",
    "\n",
    "    def _get_img(self, idx):\n",
    "        img_dir = os.path.join(self.img_dir, self.img_files[idx])\n",
    "        return self.preprocess(Image.open(img_dir).convert(\"RGB\"))\n",
    "\n",
    "    def _get_json(self, idx):\n",
    "        input_split = os.path.splitext(self.img_files[idx])\n",
    "        pose_json_name = input_split[0] + \"_keypoints.json\"\n",
    "        json_dir = os.path.join(self.pose_dir, pose_json_name)\n",
    "        with open(json_dir, 'r') as f:\n",
    "            data = json.load(f)\n",
    "\n",
    "        if 'people' not in data:\n",
    "            print(f\"people not found: {pose_json_name}\")\n",
    "            return torch.zeros(75)\n",
    "\n",
    "        if len(data['people']) == 0:\n",
    "            print(f\"no people found: {pose_json_name}\")\n",
    "            return torch.zeros(75)\n",
    "\n",
    "        if 'pose_keypoints_2d' not in data['people'][0]:\n",
    "            print(f\"no keypoints found: {pose_json_name}\")\n",
    "            return torch.zeros(75)\n",
    "        \n",
    "        return torch.tensor(data['people'][0]['pose_keypoints_2d'])\n",
    "    \n",
    "    def __getitem__(self, idx):\n",
    "        if isinstance(idx, slice):\n",
    "            # Get the start, stop, and step from the slice\n",
    "            return [self[ii] for ii in range(*idx.indices(len(self)))]\n",
    "\n",
    "        input_img = self._get_img(idx)\n",
    "        json_data = self._get_json(idx)\n",
    "\n",
    "        return {\n",
    "            \"images\": input_img,\n",
    "            \"poses\": json_data\n",
    "        }"
   ]
  },
  {
   "cell_type": "code",
   "execution_count": 3,
   "id": "8c5887dc-1f62-4b7f-a817-a8bd6dfe9f3c",
   "metadata": {},
   "outputs": [
    {
     "ename": "TypeError",
     "evalue": "__init__() takes 2 positional arguments but 3 were given",
     "output_type": "error",
     "traceback": [
      "\u001b[0;31m---------------------------------------------------------------------------\u001b[0m",
      "\u001b[0;31mTypeError\u001b[0m                                 Traceback (most recent call last)",
      "Cell \u001b[0;32mIn[3], line 1\u001b[0m\n\u001b[0;32m----> 1\u001b[0m x \u001b[38;5;241m=\u001b[39m \u001b[43mConditionalZiziDataset\u001b[49m\u001b[43m(\u001b[49m\u001b[38;5;124;43m\"\u001b[39;49m\u001b[38;5;124;43mdata/pink-cape-me\u001b[39;49m\u001b[38;5;124;43m\"\u001b[39;49m\u001b[43m,\u001b[49m\u001b[43m \u001b[49m\u001b[38;5;241;43m128\u001b[39;49m\u001b[43m)\u001b[49m\n",
      "\u001b[0;31mTypeError\u001b[0m: __init__() takes 2 positional arguments but 3 were given"
     ]
    }
   ],
   "source": [
    "x = ConditionalZiziDataset(\"data/pink-cape-me\")"
   ]
  },
  {
   "cell_type": "code",
   "execution_count": null,
   "id": "4a069f5e-6f71-47f5-8893-30110cdd0843",
   "metadata": {},
   "outputs": [],
   "source": []
  }
 ],
 "metadata": {
  "kernelspec": {
   "display_name": "Python 3 (ipykernel)",
   "language": "python",
   "name": "python3"
  },
  "language_info": {
   "codemirror_mode": {
    "name": "ipython",
    "version": 3
   },
   "file_extension": ".py",
   "mimetype": "text/x-python",
   "name": "python",
   "nbconvert_exporter": "python",
   "pygments_lexer": "ipython3",
   "version": "3.9.16"
  }
 },
 "nbformat": 4,
 "nbformat_minor": 5
}
